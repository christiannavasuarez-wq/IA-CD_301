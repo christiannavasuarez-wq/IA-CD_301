{
  "cells": [
    {
      "cell_type": "markdown",
      "metadata": {
        "id": "pWn2dYQo430H"
      },
      "source": [
        "Ir a [Osito Gominola](#osito-gominola)\\\n",
        "Ir a [PROGRAMACIÓN EN PYTHON PRIMEROS PASOS.](#programación-en-python-primeros-pasos)"
      ]
    },
    {
      "cell_type": "markdown",
      "metadata": {
        "id": "PfbP9CCV5kHI"
      },
      "source": [
        "Hola cómo estás Hola cómo estásHola cómo estásHola cómo estásHola cómo estásHola cómo *estásHola* cómo estásHol**a cómo estásHola cómo estásHola cómo estásHola cómo estásHola cómo estásHola cómo estásHola cómo estásHola cómo estásHola cómo estásHola cómo estásHola cómo está**s\n",
        "\n"
      ]
    },
    {
      "cell_type": "markdown",
      "metadata": {
        "id": "N0FV0F7VDtyb"
      },
      "source": [
        "\n",
        "![logo alt](https://i.pinimg.com/1200x/1b/0e/b8/1b0eb88d90d29ed970ccff78a91c8220.jpg\n",
        "\"Logo\")\n",
        "\n"
      ]
    },
    {
      "cell_type": "markdown",
      "metadata": {
        "id": "uJH1sGGYGdIf"
      },
      "source": [
        " <span style=\"color: #f2ffcc\">¿Por qué es un gato y no una foto mía?, es simple, me agradan los gatos.</span>"
      ]
    },
    {
      "cell_type": "markdown",
      "metadata": {},
      "source": [
        "# <span style=\"color: #f2ffcc\">AUTOBIOGRAFÍA.</span>\n"
      ]
    },
    {
      "cell_type": "markdown",
      "metadata": {},
      "source": [
        "Nací el **24 de Enero del 2006** en Toluca de Lerdo. Tengo dos hermanos mayores, bueno, siendo más específico una hermana la cual tiene 21 años y mi hermano 25 años. Actualmente vivo con mis papás y mis abuelos.\n",
        "Estudié kinder, primaria y parte de la secundaria en un pueblo llamado **Santiago Yeche**, se encuentra ubicado en Jocotitlán. Viví gran parte de mi vida ahí con mis hermanos y papás; cuando iba en segundo año de secundaria tuve que cambiarme de secundaria a una que se encuentra cerca de la terminal de autobuses. Estudié preparatoria y actualmente estoy estudiando Ingenieria en Inteligencia Artificial y Ciencia de Datos en la **Universidad de Ixtlahuaca CUI**.\n"
      ]
    },
    {
      "cell_type": "markdown",
      "metadata": {},
      "source": [
        "Siempre me ha interesado la música, desde pequeño disfrutaba cantar canciones que me gustaban y disfrutar de muchos estilos de música. Había una canción que me gustaba mucho cuando tenía aproximadamente 5 años, la canción es la siguiente:\\\n",
        "(puedes dar click en la imagen para ir al video en youtube):\\\n",
        "## Osito Gominola\n",
        " [![Gummibar-Osito Gominola](https://www.imagui.com/i/ositos-hd-imagui-356082.webp)](https://youtu.be/xiZQit_-lDE?si=gVSZadl07Nw0UIe_)\n"
      ]
    },
    {
      "cell_type": "markdown",
      "metadata": {},
      "source": [
        "Cuando iba en tercero de secundaria quería aprender sobre programación y relacionados, pero por x razón no lo hiceD:, actualmente por mi carrera empecé a aprender sobre programación y gracias a la misma descubrí un área bastante interesante; es **ciencia de datos**, me gustaría trabajar en proyectos y aprender más sobre las herramientas que pueden utilizarse, así como aprender a trabajar y explotar de la mejor manera los datos.\\\n",
        "Un dato extra sobre las cosas que me gustan es que estoy en un grupo tradicional y musical conocido como \"Tuna de la Universidad de Ixtlahuaca CUI\". Adjunto un video en youtube para que pueda verse un poco de lo que trata.\\\n",
        "[![Tuna de la Universidad de Ixtlahuaca CUI](https://tse4.mm.bing.net/th/id/OIP.Wk9d4sag9N-ZsvM9TPNRKAHaFe?r=0&rs=1&pid=ImgDetMain&o=7&rm=3)](https://youtu.be/IDWxEDuCdW8?si=m2DbrUPLBtJ67tYs)"
      ]
    },
    {
      "cell_type": "markdown",
      "metadata": {},
      "source": [
        "Actualmente estoy estudiando la Ingenieria en IACD y la verdad es que este tercer semestre hasta el momento es el que más me ha estado gustando:D. Esto es un poco de mi autobiografía:D bais."
      ]
    },
    {
      "cell_type": "markdown",
      "metadata": {},
      "source": [
        " <span style=\"color: #f2ffcc\">Lo siguiente es porque ya no sabía que poner jajja</span>"
      ]
    },
    {
      "cell_type": "code",
      "execution_count": 3,
      "metadata": {},
      "outputs": [
        {
          "name": "stdout",
          "output_type": "stream",
          "text": [
            " /\\_/\\ \n",
            "( o.o )\n",
            " > ^ < \n"
          ]
        }
      ],
      "source": [
        "\n",
        "print(\" /\\_/\\ \")\n",
        "print(\"( o.o )\")\n",
        "print(\" > ^ < \")\n"
      ]
    },
    {
      "cell_type": "markdown",
      "metadata": {},
      "source": [
        ">*Son mis mascotas😸*"
      ]
    },
    {
      "cell_type": "markdown",
      "metadata": {},
      "source": [
        "| mascota      | Tipo  | Descripción            |\n",
        "|:-----------|:-----:|------------------------|\n",
        "| junior   | gato   | animal de casa     |\n",
        "| kitty     | gato   |       animal de casa                 |\n",
        "| mochi   | gato|  animal de casa    |"
      ]
    },
    {
      "cell_type": "markdown",
      "metadata": {},
      "source": [
        "**Datos extra😸**\n",
        "- Comida favorita: arroz\n",
        "- Bebida favorita: agua de limón\n",
        "- Postre favorito: flan napolitano\n",
        "- Me gustan las papas picantes"
      ]
    },
    {
      "cell_type": "markdown",
      "metadata": {},
      "source": [
        "$$\n",
        "\\begin{bmatrix}\n",
        "1 & 13 & 2 \\\\\n",
        "3 & 8 & 2\n",
        "\n",
        "\\end{bmatrix}\n",
        "$$\n"
      ]
    },
    {
      "cell_type": "markdown",
      "metadata": {},
      "source": [
        "### PROGRAMACIÓN EN PYTHON PRIMEROS PASOS.\n"
      ]
    },
    {
      "cell_type": "markdown",
      "metadata": {},
      "source": [
        "*Librería*: Una librería agrupa funciones y utilidades listas para usar. Importas lo que necesitas en lugar de re‑inventarlo."
      ]
    },
    {
      "cell_type": "code",
      "execution_count": 4,
      "metadata": {},
      "outputs": [
        {
          "name": "stdout",
          "output_type": "stream",
          "text": [
            "Raíz de 144: 12.0\n",
            "12.0\n"
          ]
        }
      ],
      "source": [
        "import math\n",
        "raiz_144 = math.sqrt(144)\n",
        "print(\"Raíz de 144:\", raiz_144)\n",
        "print (raiz_144)"
      ]
    },
    {
      "cell_type": "code",
      "execution_count": 12,
      "metadata": {},
      "outputs": [
        {
          "name": "stdout",
          "output_type": "stream",
          "text": [
            "Raíz de 144: 12.0\n",
            "Tiro de dado: 1\n",
            "Cumpleaños: 2000-01-15\n"
          ]
        }
      ],
      "source": [
        "# Ejemplo: imports y uso inmediato\n",
        "import math\n",
        "import random\n",
        "from datetime import date\n",
        "\n",
        "raiz_144 = math.sqrt(144)          # raíz cuadrada\n",
        "dado = random.randint(1, 6)        # entero aleatorio 1..6\n",
        "cumple = date(2000, 1, 15)         # cambia a tu fecha real\n",
        "\n",
        "print(\"Raíz de 144:\", raiz_144)\n",
        "print(\"Tiro de dado:\", dado)\n",
        "print(\"Cumpleaños:\", cumple.isoformat())"
      ]
    },
    {
      "cell_type": "markdown",
      "metadata": {},
      "source": [
        ">En este ejercicio lo que hicimos fue ver algunas de las funciones de las librerías que se encuentran declaradas a inicio del programa. Tenemos de librerías random que ayuda generar números aleatorios; math ayuda a agregar nuevas funciones matemáticas u operaciones. "
      ]
    },
    {
      "cell_type": "code",
      "execution_count": 14,
      "metadata": {},
      "outputs": [
        {
          "name": "stdout",
          "output_type": "stream",
          "text": [
            "María <class 'str'>\n",
            "17 <class 'int'>\n"
          ]
        }
      ],
      "source": [
        "nombre = \"María\"        # str\n",
        "edad = 17 \n",
        "print(nombre, type(nombre))\n",
        "print(edad, type(edad))"
      ]
    },
    {
      "cell_type": "code",
      "execution_count": 15,
      "metadata": {},
      "outputs": [
        {
          "name": "stdout",
          "output_type": "stream",
          "text": [
            "María <class 'str'>\n",
            "17 <class 'int'>\n",
            "1.65 <class 'float'>\n",
            "True <class 'bool'>\n",
            "['Mate', 'Fis', 'Prog'] <class 'list'>\n",
            "(19.4, -99.1) <class 'tuple'>\n",
            "{1, 2, 3} <class 'set'>\n",
            "{'usuario': 'maria17', 'pais': 'MX'} <class 'dict'>\n"
          ]
        }
      ],
      "source": [
        "# Ejemplo: declarar variables y ver sus tipos\n",
        "nombre = \"María\"        # str\n",
        "edad = 17               # int\n",
        "altura_m = 1.65         # float\n",
        "estudiante = True       # bool\n",
        "materias = [\"Mate\", \"Fis\", \"Prog\"]  # list\n",
        "coordenadas = (19.4, -99.1)         # tuple\n",
        "unicos = {1, 2, 2, 3}               # set (sin duplicados)\n",
        "perfil = {\"usuario\": \"maria17\", \"pais\": \"MX\"}  # dict\n",
        "\n",
        "print(nombre, type(nombre))\n",
        "print(edad, type(edad))\n",
        "print(altura_m, type(altura_m))\n",
        "print(estudiante, type(estudiante))\n",
        "print(materias, type(materias))\n",
        "print(coordenadas, type(coordenadas))\n",
        "print(unicos, type(unicos))\n",
        "print(perfil, type(perfil))"
      ]
    },
    {
      "cell_type": "markdown",
      "metadata": {},
      "source": [
        ">Continuamente seguimos imprimiendo las variables, pero identificando que tipo de variable es"
      ]
    },
    {
      "cell_type": "code",
      "execution_count": 22,
      "metadata": {},
      "outputs": [
        {
          "name": "stdout",
          "output_type": "stream",
          "text": [
            "suma: 4.166666666666667\n",
            "división: 15.5\n",
            "a=12.5 (float), b=3 (int) -> suma=15.5, división=4.17\n"
          ]
        }
      ],
      "source": [
        "a_texto = \"12.5\"\n",
        "b_texto = \"3\"\n",
        "\n",
        "a = float(a_texto)  # 12.5\n",
        "b = int(b_texto)   \n",
        "division= a + b\n",
        "suma= a / b\n",
        "print (\"suma:\",suma)\n",
        "print (\"división:\",division)\n",
        "a_texto = \"12.5\"\n",
        "b_texto = \"3\"\n",
        "\n",
        "a = float(a_texto)  # 12.5\n",
        "b = int(b_texto)    # 3\n",
        "\n",
        "suma = a + b\n",
        "division = a / b\n",
        "\n",
        "print(f\"a={a} (float), b={b} (int) -> suma={suma}, división={division:.2f}\")"
      ]
    },
    {
      "cell_type": "markdown",
      "metadata": {},
      "source": [
        ">El siguiente ejercicio me demostró que no importa el nombre de la variable, la operación se define en la función y no se enfoca principalmente en el nombre de la variable o como se describe."
      ]
    },
    {
      "cell_type": "code",
      "execution_count": null,
      "metadata": {},
      "outputs": [
        {
          "name": "stdout",
          "output_type": "stream",
          "text": [
            "2 + 3 * 4 = 14\n",
            "(2 + 3) * 4 = 20\n",
            "7 // 3 = 2  7 % 3 = 1\n",
            "2 ** 3 ** 2 = 512\n",
            "¿Aprueba? True\n"
          ]
        }
      ],
      "source": [
        "# Ejemplo de operadores\n",
        "print(\"2 + 3 * 4 =\", 2 + 3 * 4)           # 14\n",
        "print(\"(2 + 3) * 4 =\", (2 + 3) * 4)       # 20\n",
        "print(\"7 // 3 =\", 7 // 3, \" 7 % 3 =\", 7 % 3)  # 2 y 1\n",
        "print(\"2 ** 3 ** 2 =\", 2 ** 3 ** 2)       # 2 ** (3**2) = 2 ** 9 = 512\n",
        "\n",
        "# Lógicos: aprobar si promedio>=7 y asistencia>=0.8\n",
        "promedio, asistencia = 7.2, 0.85\n",
        "aprueba = (promedio >= 7) and (asistencia >= 0.8)\n",
        "print(\"¿Aprueba?\", aprueba)\n",
        "#Doble comilla es porque está describiendo\n",
        "aprueba = (promedio >= 7) and (asistencia >= 0.8)\n",
        "print(\"¿Aprueba?\", aprueba)"
      ]
    },
    {
      "cell_type": "code",
      "execution_count": 1,
      "metadata": {},
      "outputs": [
        {
          "name": "stdout",
          "output_type": "stream",
          "text": [
            "Original: '   Python ES Genial  '\n",
            "Limpia: python es fantástico\n",
            "Palabras: ['python', 'es', 'fantástico']\n",
            "¿Anita lava la tina es palíndromo? True\n",
            "¿Hola mundo es palíndromo? False\n"
          ]
        }
      ],
      "source": [
        "# Limpieza y formateo\n",
        "s = \"   Python ES Genial  \"\n",
        "limpia = s.strip().lower().replace(\"genial\", \"fantástico\")\n",
        "palabras = limpia.split()\n",
        "\n",
        "print(\"Original:\", repr(s))\n",
        "print(\"Limpia:\", limpia)\n",
        "print(\"Palabras:\", palabras)\n",
        "\n",
        "# Pequeña utilidad: detectar palíndromos (ignorando espacios y mayúsculas)\n",
        "def es_palindromo(texto: str) -> bool:\n",
        "    t = \"\".join(ch.lower() for ch in texto if ch.isalnum())\n",
        "    return t == t[::-1]\n",
        "\n",
        "print(\"¿Anita lava la tina es palíndromo?\", es_palindromo(\"Anita lava la tina\"))\n",
        "print(\"¿Hola mundo es palíndromo?\", es_palindromo(\"Hola mundo\"))"
      ]
    },
    {
      "cell_type": "markdown",
      "metadata": {},
      "source": [
        "Estas son cadenas. Se puede observar cosas importantes como el .lower que es para que no sea sensible a minusculas. El método .strip() en Python es una función de cadena que se utiliza para eliminar los espacios en blanco (como espacios, tabulaciones y saltos de línea) al inicio y al final de una cadena. También puede eliminar caracteres específicos si se le indica. replace()se utiiza para remplazar una cadena."
      ]
    },
    {
      "cell_type": "code",
      "execution_count": 2,
      "metadata": {},
      "outputs": [
        {
          "name": "stdout",
          "output_type": "stream",
          "text": [
            "Lista compras: ['arroz', 'huevo', 'leche', 'manzana']  ¿leche? True\n",
            "Tupla punto: (3, 4)\n",
            "Únicos: {1, 2, 3}\n",
            "Promedio Ana: 9.0 Promedio grupo: 8.17\n"
          ]
        }
      ],
      "source": [
        "# # Lista\n",
        "# compras = [\"pan\", \"leche\", \"huevo\", \"arroz\"]\n",
        "# compras.append(\"manzana\")\n",
        "# compras.remove(\"pan\")\n",
        "# compras.sort()\n",
        "# print(\"Lista compras:\", compras, \" ¿leche?\", \"leche\" in compras)\n",
        "\n",
        "# # Tupla\n",
        "# punto = (3, 4)\n",
        "# print(\"Tupla punto:\", punto)\n",
        "\n",
        "# # Conjunto (quita duplicados)\n",
        "# nums = [1, 2, 2, 3, 3, 3]\n",
        "# unicos = set(nums)\n",
        "# print(\"Únicos:\", unicos)\n",
        "\n",
        "# # Diccionario\n",
        "# calif = {\"Ana\": [9, 8, 10], \"Luis\": [7, 7, 8]}\n",
        "# prom_ana = sum(calif[\"Ana\"]) / len(calif[\"Ana\"])\n",
        "# prom_grupo = sum(sum(v) for v in calif.values()) / sum(len(v) for v in calif.values())\n",
        "# print(\"Promedio Ana:\", prom_ana, \"Promedio grupo:\", round(prom_grupo, 2))"
      ]
    },
    {
      "cell_type": "markdown",
      "metadata": {},
      "source": [
        "Una tupla en Python es una estructura de datos que permite almacenar una colección de elementos ordenados e inmutables. Esto significa que, una vez creada, no se pueden modificar, agregar ni eliminar sus elementos. En una lista se pueden almacenar varios elementos.Un diccionario en Python es una estructura de datos que permite almacenar pares de clave-valor. Es ideal para organizar y acceder a datos de manera eficiente, ya que cada clave es única y actúa como un identificador para su valor asociado."
      ]
    },
    {
      "cell_type": "code",
      "execution_count": 3,
      "metadata": {},
      "outputs": [
        {
          "name": "stdout",
          "output_type": "stream",
          "text": [
            "Suma de cuadrados 1..5 = 55\n",
            "Fibonacci (8): [0, 1, 1, 2, 3, 5, 8, 13]\n"
          ]
        }
      ],
      "source": [
        "# if + for: suma de cuadrados del 1 al 5\n",
        "suma_cuad = 0\n",
        "for n in range(1, 6):\n",
        "    cuadrado = n * n\n",
        "    if cuadrado % 2 == 0:\n",
        "        pass  # no hacemos nada especial; es solo de ejemplo\n",
        "    suma_cuad += cuadrado\n",
        "print(\"Suma de cuadrados 1..5 =\", suma_cuad)\n",
        "\n",
        "# while: generar primeros 8 Fibonacci\n",
        "fib = [0, 1]\n",
        "while len(fib) < 8:\n",
        "    fib.append(fib[-1] + fib[-2])\n",
        "print(\"Fibonacci (8):\", fib)"
      ]
    },
    {
      "cell_type": "markdown",
      "metadata": {},
      "source": [
        "*perceptron*: Encontrar patrones, los perceptrones encuentran patrones a través de la cadena flaten. Ya que tenemos los patrones, se intuyen cosas, normalmente"
      ]
    },
    {
      "cell_type": "markdown",
      "metadata": {},
      "source": []
    },
    {
      "cell_type": "code",
      "execution_count": 5,
      "metadata": {},
      "outputs": [
        {
          "name": "stdout",
          "output_type": "stream",
          "text": [
            "Cuadrados: [1, 4, 9, 16, 25, 36, 49, 64, 81, 100]\n",
            "Pares: [4, 16, 36, 64, 100]\n",
            "Inverso simple: {'Sofía': 'Física', 'Carlos': 'Historia'}\n",
            "Letras sin vocales: {'n', 'c', 'r', 'g', 'm', 'p'}\n"
          ]
        }
      ],
      "source": [
        "# Lista de cuadrados y filtrado de pares\n",
        "cuadrados = [n*n for n in range(1, 11)]\n",
        "pares = [x for x in cuadrados if x % 2 == 0]\n",
        "print(\"Cuadrados:\", cuadrados)\n",
        "print(\"Pares:\", pares)\n",
        "\n",
        "# Diccionario inverso (materia -> profe) => (profe -> materia)\n",
        "materia_a_profe = {\"Mate\": \"Sofía\", \"Física\": \"Sofía\", \"Historia\": \"Carlos\"}\n",
        "# Si un profe repite, guardamos una sola materia (ejemplo simple)\n",
        "profe_a_materia = {profe: materia for materia, profe in materia_a_profe.items()}\n",
        "print(\"Inverso simple:\", profe_a_materia)\n",
        "\n",
        "# Set comprehension: letras únicas sin vocales\n",
        "s = \"programación\"\n",
        "sin_vocales = {c for c in s if c not in \"aeiouáéíóú\"}\n",
        "print(\"Letras sin vocales:\", sin_vocales)"
      ]
    },
    {
      "cell_type": "markdown",
      "metadata": {},
      "source": [
        "Concepto breve: Atajos claros para construir colecciones a partir de iteraciones."
      ]
    },
    {
      "cell_type": "code",
      "execution_count": 6,
      "metadata": {},
      "outputs": [
        {
          "name": "stdout",
          "output_type": "stream",
          "text": [
            "Área 5x2 = 10\n",
            "¿'Hola1234' es segura? True\n",
            "¿'hola' es segura? False\n"
          ]
        }
      ],
      "source": [
        "def area_rectangulo(base: float, altura: float = 1.0) -> float:\n",
        "    \"\"\"Calcula el área de un rectángulo.\"\"\"\n",
        "    return base * altura\n",
        "\n",
        "def es_segura(pw: str) -> bool:\n",
        "    \"\"\"Contraseña segura: >=8 y contiene mayúscula, minúscula y dígito.\"\"\"\n",
        "    return (\n",
        "        len(pw) >= 8 and\n",
        "        any(c.isupper() for c in pw) and\n",
        "        any(c.islower() for c in pw) and\n",
        "        any(c.isdigit() for c in pw)\n",
        "    )\n",
        "\n",
        "print(\"Área 5x2 =\", area_rectangulo(5, 2))\n",
        "print(\"¿'Hola1234' es segura?\", es_segura(\"Hola1234\"))\n",
        "print(\"¿'hola' es segura?\", es_segura(\"hola\"))"
      ]
    },
    {
      "cell_type": "markdown",
      "metadata": {},
      "source": [
        "Las subrutinas pueden utilizarse para otros programas. son bloques de código que tienen ciertas instrucciones, así como parametros y pueden ser utilizadas en otro programa."
      ]
    },
    {
      "cell_type": "code",
      "execution_count": 7,
      "metadata": {},
      "outputs": [
        {
          "name": "stdout",
          "output_type": "stream",
          "text": [
            "Limpia: hola mundo, programación en python\n",
            "Vocales: {'a': 3, 'e': 1, 'i': 1, 'o': 4, 'u': 1, 'ó': 1}\n"
          ]
        }
      ],
      "source": [
        "# Creamos un módulo sencillo llamado utilidades.py\n",
        "contenido = '''\n",
        "def limpiar_texto(s: str) -> str:\n",
        "    return s.strip().lower()\n",
        "\n",
        "def contar_vocales(s: str) -> dict:\n",
        "    s = s.lower()\n",
        "    vocs = \"aeiouáéíóú\"\n",
        "    return {v: s.count(v) for v in vocs if s.count(v) > 0}\n",
        "'''.lstrip()\n",
        "\n",
        "with open(\"utilidades.py\", \"w\", encoding=\"utf-8\") as f:\n",
        "    f.write(contenido)\n",
        "\n",
        "# Lo importamos y usamos\n",
        "import utilidades as ut\n",
        "\n",
        "frase = \"  HOLA Mundo, Programación en PYTHON  \"\n",
        "print(\"Limpia:\", ut.limpiar_texto(frase))\n",
        "print(\"Vocales:\", ut.contar_vocales(frase))"
      ]
    },
    {
      "cell_type": "markdown",
      "metadata": {},
      "source": [
        "se puede importar bloques de código dentro del programa con la extensión .py. "
      ]
    },
    {
      "cell_type": "code",
      "execution_count": 8,
      "metadata": {},
      "outputs": [
        {
          "name": "stdout",
          "output_type": "stream",
          "text": [
            "Notas leídas: [9.5, 8.0, 7.5, 10.0, 8.5]  Promedio: 8.7\n",
            "Top 5 palabras: [('hola', 3), ('prueba', 2), ('esto', 1), ('es', 1), ('una', 1)]\n"
          ]
        }
      ],
      "source": [
        "# Guardamos y leemos notas, luego calculamos promedio\n",
        "notas = [9.5, 8.0, 7.5, 10.0, 8.5]\n",
        "with open(\"notas.txt\", \"w\", encoding=\"utf-8\") as f:\n",
        "    for n in notas:\n",
        "        f.write(f\"{n}\\n\")\n",
        "\n",
        "leidas = []\n",
        "with open(\"notas.txt\", \"r\", encoding=\"utf-8\") as f:\n",
        "    for linea in f:\n",
        "        leidas.append(float(linea.strip()))\n",
        "\n",
        "promedio = sum(leidas) / len(leidas)\n",
        "print(\"Notas leídas:\", leidas, \" Promedio:\", round(promedio, 2))\n",
        "\n",
        "# Mini contador de palabras (simple)\n",
        "texto = \"¡Hola, hola! Esto es una prueba. Prueba simple; hola.\"\n",
        "with open(\"texto.txt\", \"w\", encoding=\"utf-8\") as f:\n",
        "    f.write(texto)\n",
        "\n",
        "import re\n",
        "with open(\"texto.txt\", \"r\", encoding=\"utf-8\") as f:\n",
        "    contenido = f.read().lower()\n",
        "    contenido = re.sub(r\"[^a-záéíóúñü\\s]\", \" \", contenido)  # quita signos\n",
        "    palabras = [p for p in contenido.split() if p]\n",
        "\n",
        "from collections import Counter\n",
        "top5 = Counter(palabras).most_common(5)\n",
        "print(\"Top 5 palabras:\", top5)"
      ]
    },
    {
      "cell_type": "markdown",
      "metadata": {},
      "source": [
        "Lo que hacen los transformers es que recuerdan información. "
      ]
    },
    {
      "cell_type": "code",
      "execution_count": 9,
      "metadata": {},
      "outputs": [
        {
          "name": "stdout",
          "output_type": "stream",
          "text": [
            "10 / 2 = 5.0\n",
            "ValueError con (5, 0): No se puede dividir entre cero.\n",
            "TypeError con (9, 3): unsupported operand type(s) for /: 'str' and 'int'\n"
          ]
        }
      ],
      "source": [
        "def dividir_seguro(a, b):\n",
        "    if b == 0:\n",
        "        raise ValueError(\"No se puede dividir entre cero.\")\n",
        "    return a / b\n",
        "\n",
        "# Ejemplos con manejo de excepciones\n",
        "casos = [(10, 2), (5, 0), (\"9\", 3)]\n",
        "for x, y in casos:\n",
        "    try:\n",
        "        resultado = dividir_seguro(x, y)\n",
        "    except TypeError as e:\n",
        "        print(f\"TypeError con ({x}, {y}): {e}\")\n",
        "    except ValueError as e:\n",
        "        print(f\"ValueError con ({x}, {y}): {e}\")\n",
        "    else:\n",
        "        print(f\"{x} / {y} = {resultado}\")\n",
        "    finally:\n",
        "        pass  # lugar para liberar recursos si fuera necesario"
      ]
    },
    {
      "cell_type": "markdown",
      "metadata": {},
      "source": [
        "Aquí son excepciones o errores que pueden llegar a cometer los programas."
      ]
    }
  ],
  "metadata": {
    "colab": {
      "name": "Te damos la bienvenida a Colab",
      "provenance": []
    },
    "kernelspec": {
      "display_name": "IACD301",
      "language": "python",
      "name": "python3"
    },
    "language_info": {
      "codemirror_mode": {
        "name": "ipython",
        "version": 3
      },
      "file_extension": ".py",
      "mimetype": "text/x-python",
      "name": "python",
      "nbconvert_exporter": "python",
      "pygments_lexer": "ipython3",
      "version": "3.10.18"
    }
  },
  "nbformat": 4,
  "nbformat_minor": 0
}
